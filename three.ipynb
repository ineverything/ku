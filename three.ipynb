{
 "cells": [
  {
   "cell_type": "code",
   "execution_count": 4,
   "metadata": {},
   "outputs": [
    {
     "name": "stdout",
     "output_type": "stream",
     "text": [
      "[3. 3. 3. 3. 3. 3. 3. 3. 3. 3.]\n",
      "[0. 0. 0. 0. 1. 0. 0. 0. 0. 0.]\n",
      "[10 11 12 13 14 15 16 17 18 19 20 21 22 23 24 25 26 27 28 29 30 31 32 33\n",
      " 34 35 36 37 38 39 40 41 42 43 44 45 46 47 48 49]\n",
      "[[0 1 2]\n",
      " [3 4 5]\n",
      " [6 7 8]]\n",
      "0.9943567785629306 0.014911888999221024\n",
      "[[1. 1. 1. 1. 1. 1. 1. 1. 1. 1.]\n",
      " [1. 0. 0. 0. 0. 0. 0. 0. 0. 1.]\n",
      " [1. 0. 0. 0. 0. 0. 0. 0. 0. 1.]\n",
      " [1. 0. 0. 0. 0. 0. 0. 0. 0. 1.]\n",
      " [1. 0. 0. 0. 0. 0. 0. 0. 0. 1.]\n",
      " [1. 0. 0. 0. 0. 0. 0. 0. 0. 1.]\n",
      " [1. 0. 0. 0. 0. 0. 0. 0. 0. 1.]\n",
      " [1. 0. 0. 0. 0. 0. 0. 0. 0. 1.]\n",
      " [1. 0. 0. 0. 0. 0. 0. 0. 0. 1.]\n",
      " [1. 1. 1. 1. 1. 1. 1. 1. 1. 1.]]\n",
      "[[3. 3.]\n",
      " [3. 3.]\n",
      " [3. 3.]\n",
      " [3. 3.]\n",
      " [3. 3.]]\n"
     ]
    }
   ],
   "source": [
    "import numpy as np\n",
    "\n",
    "#1. Create a null vector of size 10    创建一个空向量\n",
    "x1 = np.empty(10)\n",
    "print(x1)\n",
    "\n",
    "#2. Create a null vector of size 10 but the fifth value which is 1 \n",
    "x2 = np.zeros(10)\n",
    "x2[4] = 1\n",
    "print(x2)\n",
    "\n",
    "#3. Create a vector with values ranging from 10 to 49 \n",
    "x3 = np.arange(10,50)\n",
    "print(x3)\n",
    "\n",
    "#4. Create a 3x3 matrix with ranging from 0 to 8 \n",
    "x4 = np.arange(9).reshape(3,3)\n",
    "print(x4)\n",
    "\n",
    "#5. Create a 10x10 array with random values and find the minimum and maximum values\n",
    "x5 = np.random.random((10,10))\n",
    "x5max,x5min = x5.max(),x5.min()\n",
    "print(x5max,x5min)\n",
    "\n",
    "#6. Create a 2d array with 1 on the border and 0 inside \n",
    "x6 = np.ones((10,10))\n",
    "x6[1:-1,1:-1] = 0\n",
    "print(x6)\n",
    "\n",
    "#7. Multiply a 5x3 matrix(矩阵) by a 3x2 matrix (real matrix product) \n",
    "x7 = np.dot(np.ones((5,3)), np.ones((3,2)))\n",
    "print(x7)"
   ]
  },
  {
   "cell_type": "code",
   "execution_count": 17,
   "metadata": {},
   "outputs": [
    {
     "name": "stdout",
     "output_type": "stream",
     "text": [
      "  animal  age  visits priority\n",
      "a    cat  2.5       1      yes\n",
      "b    cat  3.0       3      yes\n",
      "c  snake  0.5       2       no\n",
      "d    dog  NaN       3      yes\n",
      "e    dog  5.0       2       no\n",
      "f    cat  2.0       3       no\n",
      "g  snake  4.5       1       no\n",
      "h    cat  NaN       1      yes\n",
      "i    dog  7.0       2       no\n",
      "j    dog  3.0       1       no\n",
      "<class 'pandas.core.frame.DataFrame'>\n",
      "Index: 10 entries, a to j\n",
      "Data columns (total 4 columns):\n",
      " #   Column    Non-Null Count  Dtype  \n",
      "---  ------    --------------  -----  \n",
      " 0   animal    10 non-null     object \n",
      " 1   age       8 non-null      float64\n",
      " 2   visits    10 non-null     int64  \n",
      " 3   priority  10 non-null     object \n",
      "dtypes: float64(1), int64(1), object(2)\n",
      "memory usage: 400.0+ bytes\n",
      "  animal  age\n",
      "a    cat  2.5\n",
      "b    cat  3.0\n",
      "c  snake  0.5\n",
      "d    dog  NaN\n",
      "e    dog  5.0\n",
      "f    cat  2.0\n",
      "g  snake  4.5\n",
      "h    cat  NaN\n",
      "i    dog  7.0\n",
      "j    dog  3.0\n",
      "  animal  age  visits priority\n",
      "d    dog  NaN       3      yes\n",
      "h    cat  NaN       1      yes\n",
      "  animal  age  visits priority\n",
      "i    dog  7.0       2       no\n",
      "e    dog  5.0       2       no\n",
      "g  snake  4.5       1       no\n",
      "j    dog  3.0       1       no\n",
      "b    cat  3.0       3      yes\n",
      "a    cat  2.5       1      yes\n",
      "f    cat  2.0       3       no\n",
      "c  snake  0.5       2       no\n",
      "h    cat  NaN       1      yes\n",
      "d    dog  NaN       3      yes\n",
      "   animal  age  visits priority\n",
      "a     cat  2.5       1      yes\n",
      "b     cat  3.0       3      yes\n",
      "c  python  0.5       2       no\n",
      "d     dog  NaN       3      yes\n",
      "e     dog  5.0       2       no\n",
      "f     cat  2.0       3       no\n",
      "g  python  4.5       1       no\n",
      "h     cat  NaN       1      yes\n",
      "i     dog  7.0       2       no\n",
      "j     dog  3.0       1       no\n"
     ]
    }
   ],
   "source": [
    "import numpy as  np\n",
    "import pandas as pd\n",
    "\n",
    "#1. Create df with labels as index\n",
    "data = {'animal': ['cat', 'cat', 'snake', 'dog', 'dog', 'cat', 'snake', 'cat', 'dog', 'dog'],\n",
    "        'age': [2.5, 3, 0.5, np.nan, 5, 2, 4.5, np.nan, 7, 3],\n",
    "        'visits': [1, 3, 2, 3, 2, 3, 1, 1, 2, 1],\n",
    "        'priority': ['yes', 'yes', 'no', 'yes', 'no', 'no', 'no', 'yes', 'no', 'no']}\n",
    "\n",
    "labels = ['a', 'b', 'c', 'd', 'e', 'f', 'g', 'h', 'i', 'j']\n",
    "df = pd.DataFrame(data,index=labels)\n",
    "print(df)\n",
    "\n",
    "#2. Show df basic information and its data\n",
    "df.info()\n",
    "\n",
    "#3. Select only the 'animal' and 'age' columns\n",
    "print(df.loc[:, ['animal', 'age']])\n",
    "\n",
    "#4. Select the row with missing value\n",
    "print(df[df['age'].isnull()])\n",
    "\n",
    "#5. Sort DF in descending age and ascending visit order  年龄下降，参观量上升\n",
    "print(df.sort_values(by=['age', 'visits'], ascending=[False, True]))\n",
    "\n",
    "#6. In the 'animal' column, replace 'Snake' with 'Python'\n",
    "df['animal'] = df['animal'].replace('snake', 'python')\n",
    "print(df)"
   ]
  },
  {
   "cell_type": "code",
   "execution_count": 16,
   "metadata": {},
   "outputs": [
    {
     "data": {
      "image/png": "[encoded data removed]",
      "text/plain": [
       "<Figure size 432x288 with 1 Axes>"
      ]
     },
     "metadata": {
      "needs_background": "light"
     },
     "output_type": "display_data"
    },
    {
     "data": {
      "image/png": "[encoded data removed]",
      "text/plain": [
       "<Figure size 432x288 with 3 Axes>"
      ]
     },
     "metadata": {
      "needs_background": "light"
     },
     "output_type": "display_data"
    },
    {
     "name": "stderr",
     "output_type": "stream",
     "text": [
      "C:\\ProgramData\\Anaconda3\\lib\\site-packages\\ipykernel_launcher.py:39: MatplotlibDeprecationWarning: Adding an axes using the same arguments as a previous axes currently reuses the earlier instance.  In a future version, a new instance will always be created and returned.  Meanwhile, this warning can be suppressed, and the future behavior ensured, by passing a unique label to each axes instance.\n"
     ]
    },
    {
     "data": {
      "image/png": "[encoded data removed]",
      "text/plain": [
       "<Figure size 1440x1440 with 5 Axes>"
      ]
     },
     "metadata": {
      "needs_background": "light"
     },
     "output_type": "display_data"
    }
   ],
   "source": [
    "%matplotlib inline\n",
    "import matplotlib as mpl\n",
    "from matplotlib import pyplot as plt\n",
    "import seaborn as sns\n",
    "import pandas as pd\n",
    "import numpy as np\n",
    "\n",
    "data = sns.load_dataset(\"iris\")\n",
    "data.head() #读取前五行数据\n",
    "# 萼片长度，萼片宽度，花瓣长度，花瓣宽度，种类\n",
    "\n",
    "#1. Size relationship between sepal and petal (scatter diagram)花萼和花瓣的散点图\n",
    "data['sepal_size'] = data['sepal_length'] * data['sepal_width']\n",
    "data['petal_size'] = data['petal_length'] * data['petal_width']\n",
    "plt.scatter(data['sepal_size'],data['petal_size'])\n",
    "\n",
    "#2. The size relationship between sepals and petals of iris of    different species\n",
    "t = data.groupby(['species']).size()#3种\n",
    "t.index\n",
    "#Index(['setosa', 'versicolor', 'virginica'], dtype='object', name='species')\n",
    "data[data['species'].values == 'setosa']['sepal_size']\n",
    "\n",
    "plt.figure()\n",
    "flag = 1\n",
    "for name in data.groupby(['species']).size().index:\n",
    "    sepal_size = data[data['species'].values == name]['sepal_size']\n",
    "    petal_size = data[data['species'].values == name]['petal_size']\n",
    "    plt.subplot(2,2,flag)\n",
    "    plt.scatter(sepal_size.values,petal_size.values)\n",
    "    flag += 1\n",
    "plt.show()\n",
    "\n",
    "#3. Distribution of sepals and petal sizes of different Iris species (box diagram)\n",
    "plt.figure(figsize=(20,20))\n",
    "flag = 1\n",
    "for name in data.groupby(['species']).size().index:\n",
    "    sepal_size = data[data['species'].values == name]['sepal_size']\n",
    "    petal_size = data[data['species'].values == name]['petal_size']\n",
    "    plt.subplot(3,3,flag)\n",
    "    plt.boxplot(sepal_size.values\n",
    "                ,patch_artist = True\n",
    "               # 中位数线颜色\n",
    "               , medianprops = {'color': 'b'}\n",
    "               # 箱子颜色设置，color：边框颜色，facecolor：填充颜色\n",
    "               , boxprops = {'color': 'b', 'facecolor': 'r'}\n",
    "               # 猫须颜色whisker\n",
    "               , whiskerprops = {'color': 'r'}\n",
    "               # 猫须界限颜色whisker cap\n",
    "               , capprops = {'color': 'b'})\n",
    "    plt.title(name +'+sepal_size')\n",
    "    plt.subplot(3,3,flag * 2)\n",
    "    plt.boxplot(sepal_size.values,\n",
    "               patch_artist = True\n",
    "               # 中位数线颜色\n",
    "               , medianprops = {'color': 'b'}\n",
    "               # 箱子颜色设置，color：边框颜色，facecolor：填充颜色\n",
    "               , boxprops = {'color': 'b', 'facecolor': 'r'}\n",
    "               # 猫须颜色whisker\n",
    "               , whiskerprops = {'color': 'r'}\n",
    "               # 猫须界限颜色whisker cap\n",
    "               , capprops = {'color': 'b'})\n",
    "    plt.title(name +'+petal_size')\n",
    "    flag += 1\n",
    "plt.show()"
   ]
  },
  {
   "cell_type": "code",
   "execution_count": null,
   "metadata": {},
   "outputs": [],
   "source": []
  },
  {
   "cell_type": "code",
   "execution_count": null,
   "metadata": {},
   "outputs": [],
   "source": []
  },
  {
   "cell_type": "code",
   "execution_count": null,
   "metadata": {},
   "outputs": [],
   "source": []
  }
 ],
 "metadata": {
  "kernelspec": {
   "display_name": "Python 3",
   "language": "python",
   "name": "python3"
  },
  "language_info": {
   "codemirror_mode": {
    "name": "ipython",
    "version": 3
   },
   "file_extension": ".py",
   "mimetype": "text/x-python",
   "name": "python",
   "nbconvert_exporter": "python",
   "pygments_lexer": "ipython3",
   "version": "3.7.6"
  }
 },
 "nbformat": 4,
 "nbformat_minor": 4
}
